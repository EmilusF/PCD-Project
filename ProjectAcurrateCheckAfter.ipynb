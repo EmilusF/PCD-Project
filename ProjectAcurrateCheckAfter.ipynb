{
 "cells": [
  {
   "cell_type": "code",
   "execution_count": 1,
   "metadata": {},
   "outputs": [],
   "source": [
    "import cv2 as cv\n",
    "import numpy as np\n",
    "import matplotlib.pyplot as plt\n",
    "import pandas as singgih\n",
    "import os\n",
    "import seaborn as sns\n",
    "import math\n",
    "import numpy as np\n",
    "import numpy as np\n",
    "import mahotas.features.texture as texture"
   ]
  },
  {
   "cell_type": "code",
   "execution_count": 2,
   "metadata": {},
   "outputs": [],
   "source": [
    "data = []\n",
    "file_name=[]\n",
    "folders = [\n",
    "    \"Hasil/Cataract\", \n",
    "    \"Hasil/Myiopia\", \n",
    "    \"Hasil/Normal\"\n",
    "    ]\n",
    "\n",
    "for folder in folders:\n",
    "    dataset = os.listdir(folder)\n",
    "    for file in dataset:\n",
    "\n",
    "        img_path = os.path.join(folder, file)\n",
    "        name = os.path.splitext(file)[0]\n",
    "\n",
    "        inImage = cv.imread(img_path)\n",
    "        gray_img = cv.cvtColor(inImage, cv.COLOR_BGR2GRAY)\n",
    "\n",
    "        data.append(gray_img)\n",
    "        file_name.append(name)\n",
    "\n"
   ]
  },
  {
   "cell_type": "code",
   "execution_count": 3,
   "metadata": {},
   "outputs": [],
   "source": [
    "for i in range(len(data)):\n",
    "    image = data[i]\n",
    "    min = np.min(image)\n",
    "    max = np.max(image)\n",
    "    \n",
    "    newimage = (image - min) / (max - min)\n",
    "    Intimage = (newimage * 255).astype(np.uint8)\n",
    "\n",
    "    image = cv.resize(Intimage, (256, 256), interpolation=cv.INTER_NEAREST)\n",
    "    data[i] = image"
   ]
  },
  {
   "cell_type": "code",
   "execution_count": 4,
   "metadata": {},
   "outputs": [],
   "source": [
    "def extrac(image ,bitrange, derajat):\n",
    "    bitrange = int(math.pow(2,bitrange))\n",
    "    hasil = np.zeros((bitrange, bitrange))\n",
    "    for i in range (image.shape[0]):\n",
    "        for j in range (image.shape[1]):\n",
    "            if (0 <= i < len(image)-1 and 0 <= j < len(image[0])-1 and derajat == 0):\n",
    "                hasil[image[i,j], image[i,j+1]] += 1\n",
    "            elif (0 <= i < len(image)-1 and 0 <= j < len(image[0])-1 and derajat == 45):\n",
    "                hasil[image[i,j], image[i-1,j+1]] += 1\n",
    "            elif (0 <= i < len(image)-1 and 0 <= j < len(image[0])-1 and derajat == 90):\n",
    "                hasil[image[i,j], image[i-1,j]] += 1\n",
    "            elif (0 <= i < len(image)-1 and 0 <= j < len(image[0])-1 and derajat == 135):\n",
    "                hasil[image[i,j], image[i-1,j-1]] += 1\n",
    "    hasil = hasil + hasil.T\n",
    "    sum = np.sum(hasil)\n",
    "    hasilnormal = np.zeros(hasil.shape)\n",
    "    hasilnormal = hasil/sum\n",
    "    return hasilnormal"
   ]
  },
  {
   "cell_type": "code",
   "execution_count": 5,
   "metadata": {},
   "outputs": [],
   "source": [
    "def correlation(matriks):\n",
    "    rows, cols = matriks.shape\n",
    "    indicesi, indicesj = np.indices((rows, cols))\n",
    "    pwi = np.sum(indicesi * matriks)\n",
    "    pwj = np.sum(indicesj * matriks)\n",
    "    stdrow = np.sqrt(np.sum(((indicesi - pwi) ** 2) * matriks))\n",
    "    stdcol = np.sqrt(np.sum(((indicesj - pwj) ** 2) * matriks))\n",
    "    hasil = np.sum(((indicesi - pwi) * (indicesj - pwj) * matriks) / (stdrow * stdcol))\n",
    "    return hasil"
   ]
  },
  {
   "cell_type": "code",
   "execution_count": 6,
   "metadata": {},
   "outputs": [],
   "source": [
    "def dissimilarity(matriks):\n",
    "    hasil = 0\n",
    "    for i in range(matriks.shape[0]):\n",
    "        for j in range(matriks.shape[1]):\n",
    "            hasil += matriks[i,j]*abs(i-j)\n",
    "    return hasil"
   ]
  },
  {
   "cell_type": "code",
   "execution_count": 7,
   "metadata": {},
   "outputs": [],
   "source": [
    "def homogenity(matriks):\n",
    "    hasil = 0\n",
    "    for i in range(matriks.shape[0]):\n",
    "        for j in range(matriks.shape[1]):\n",
    "            hasil += matriks[i,j]/(1+(abs(i-j)))\n",
    "    return hasil"
   ]
  },
  {
   "cell_type": "code",
   "execution_count": 8,
   "metadata": {},
   "outputs": [],
   "source": [
    "def contrast(matriks):\n",
    "    hasil = 0\n",
    "    for i in range(matriks.shape[0]):\n",
    "        for j in range(matriks.shape[1]):\n",
    "            hasil+=((i-j)**2)*matriks[i,j]\n",
    "    return hasil"
   ]
  },
  {
   "cell_type": "code",
   "execution_count": 9,
   "metadata": {},
   "outputs": [],
   "source": [
    "def entropy(matriks):\n",
    "    hasil = 0\n",
    "    for i in range(matriks.shape[0]):\n",
    "        for j in range(matriks.shape[1]):\n",
    "            if matriks[i,j] != 0:\n",
    "                hasil -= matriks[i,j]*np.log2(matriks[i,j])\n",
    "    return hasil"
   ]
  },
  {
   "cell_type": "code",
   "execution_count": 10,
   "metadata": {},
   "outputs": [],
   "source": [
    "def ASM(matriks):\n",
    "    return np.sum(matriks**2)"
   ]
  },
  {
   "cell_type": "code",
   "execution_count": 11,
   "metadata": {},
   "outputs": [],
   "source": [
    "def energy(matriks):\n",
    "    return np.sqrt(ASM(matriks))"
   ]
  },
  {
   "cell_type": "code",
   "execution_count": 12,
   "metadata": {},
   "outputs": [],
   "source": [
    "Derajat0 = []\n",
    "Derajat45 = []\n",
    "Derajat90 = []\n",
    "Derajat135 = []\n",
    "for i in range(len(data)):\n",
    "    D0 = extrac(data[i], 8, 0)\n",
    "    D45 = extrac(data[i], 8, 45)\n",
    "    D90 = extrac(data[i], 8, 90)\n",
    "    D135 = extrac(data[i], 8, 135)\n",
    "    Derajat0.append(D0)\n",
    "    Derajat45.append(D45)\n",
    "    Derajat90.append(D90)\n",
    "    Derajat135.append(D135)"
   ]
  },
  {
   "cell_type": "code",
   "execution_count": 13,
   "metadata": {},
   "outputs": [],
   "source": [
    "Kontras0 = []\n",
    "Kontras45 = []\n",
    "Kontras90 = []\n",
    "Kontras135 = []\n",
    "dissimilarity0 = []\n",
    "dissimilarity45 = []\n",
    "dissimilarity90 = []\n",
    "dissimilarity135 = []\n",
    "homogenity0 = []\n",
    "homogenity45 = []\n",
    "homogenity90 = []\n",
    "homogenity135 = []\n",
    "entropy0 = []\n",
    "entropy45 = []\n",
    "entropy90 = []\n",
    "entropy135 = []\n",
    "ASM0 = []\n",
    "ASM45 = []\n",
    "ASM90 = []\n",
    "ASM135 = []\n",
    "energy0 = []\n",
    "energy45 = []\n",
    "energy90 = []\n",
    "energy135 = []"
   ]
  },
  {
   "cell_type": "code",
   "execution_count": 14,
   "metadata": {},
   "outputs": [],
   "source": [
    "for i in range(len(data)):\n",
    "    K0 = contrast(Derajat0[i])\n",
    "    K45 = contrast(Derajat45[i])\n",
    "    K90 = contrast(Derajat90[i])\n",
    "    K135 = contrast(Derajat135[i])\n",
    "    Kontras0.append(K0)\n",
    "    Kontras45.append(K45)\n",
    "    Kontras90.append(K90)\n",
    "    Kontras135.append(K135)"
   ]
  },
  {
   "cell_type": "code",
   "execution_count": 15,
   "metadata": {},
   "outputs": [],
   "source": [
    "for i in range(len(data)):\n",
    "    Dis0 = dissimilarity(Derajat0[i])\n",
    "    Dis45 = dissimilarity(Derajat45[i])\n",
    "    Dis90 = dissimilarity(Derajat90[i])\n",
    "    Dis135 = dissimilarity(Derajat135[i])\n",
    "    dissimilarity0.append(Dis0)\n",
    "    dissimilarity45.append(Dis45)\n",
    "    dissimilarity90.append(Dis90)\n",
    "    dissimilarity135.append(Dis135)"
   ]
  },
  {
   "cell_type": "code",
   "execution_count": 16,
   "metadata": {},
   "outputs": [],
   "source": [
    "for i in range(len(data)):\n",
    "    H0 = homogenity(Derajat0[i])\n",
    "    H45 = homogenity(Derajat45[i])\n",
    "    H90 = homogenity(Derajat90[i])\n",
    "    H135 = homogenity(Derajat135[i])\n",
    "    homogenity0.append(H0)\n",
    "    homogenity45.append(H45)\n",
    "    homogenity90.append(H90)\n",
    "    homogenity135.append(H135)"
   ]
  },
  {
   "cell_type": "code",
   "execution_count": 17,
   "metadata": {},
   "outputs": [],
   "source": [
    "for i in range(len(data)):  \n",
    "    E0 = entropy(Derajat0[i])\n",
    "    E45 = entropy(Derajat45[i])\n",
    "    E90 = entropy(Derajat90[i])\n",
    "    E135 = entropy(Derajat135[i])\n",
    "    entropy0.append(E0)\n",
    "    entropy45.append(E45)\n",
    "    entropy90.append(E90)\n",
    "    entropy135.append(E135)"
   ]
  },
  {
   "cell_type": "code",
   "execution_count": 18,
   "metadata": {},
   "outputs": [],
   "source": [
    "for i in range(len(data)):\n",
    "    A0 = ASM(Derajat0[i])\n",
    "    A45 = ASM(Derajat45[i])\n",
    "    A90 = ASM(Derajat90[i])\n",
    "    A135 = ASM(Derajat135[i])\n",
    "    ASM0.append(A0)\n",
    "    ASM45.append(A45)\n",
    "    ASM90.append(A90)\n",
    "    ASM135.append(A135)"
   ]
  },
  {
   "cell_type": "code",
   "execution_count": 19,
   "metadata": {},
   "outputs": [],
   "source": [
    "for i in range(len(data)):\n",
    "    ER0 = energy(Derajat0[i])\n",
    "    ER45 = energy(Derajat45[i])\n",
    "    ER90 = energy(Derajat90[i])\n",
    "    ER135 = energy(Derajat135[i])\n",
    "    energy0.append(ER0)\n",
    "    energy45.append(ER45)\n",
    "    energy90.append(ER90)\n",
    "    energy135.append(ER135)"
   ]
  },
  {
   "cell_type": "code",
   "execution_count": 20,
   "metadata": {},
   "outputs": [],
   "source": [
    "kontras = singgih.DataFrame({\n",
    "    'Fitur Kontras': file_name,\n",
    "    'Derajat 0': Kontras0,\n",
    "    'Derajat 45': Kontras45,\n",
    "    'Derajat 90': Kontras90,\n",
    "    'Derajat 135': Kontras135\n",
    "}\n",
    ")\n",
    "dissimilaritas = singgih.DataFrame(\n",
    "    {\n",
    "    'Fitur Dissimilarity': file_name,\n",
    "    'Derajat 0': dissimilarity0,\n",
    "    'Derajat 45': dissimilarity45,\n",
    "    'Derajat 90': dissimilarity90,\n",
    "    'Derajat 135': dissimilarity135\n",
    "    }\n",
    ")\n",
    "homogenitas = singgih.DataFrame(\n",
    "    {\n",
    "    'Fitur Homogenitas': file_name,\n",
    "    'Derajat 0': homogenity0,\n",
    "    'Derajat 45': homogenity45,\n",
    "    'Derajat 90': homogenity90,\n",
    "    'Derajat 135': homogenity135\n",
    "    }\n",
    ")\n",
    "entropi = singgih.DataFrame(\n",
    "    {\n",
    "    'Fitur Entropi': file_name,\n",
    "    'Derajat 0': entropy0,\n",
    "    'Derajat 45': entropy45,\n",
    "    'Derajat 90': entropy90,\n",
    "    'Derajat 135': entropy135\n",
    "    }\n",
    ")\n",
    "asm = singgih.DataFrame(\n",
    "    {\n",
    "    'Fitur ASM': file_name,\n",
    "    'Derajat 0': ASM0,\n",
    "    'Derajat 45': ASM45,\n",
    "    'Derajat 90': ASM90,\n",
    "    'Derajat 135': ASM135\n",
    "    }\n",
    ")\n",
    "energi = singgih.DataFrame(\n",
    "    {\n",
    "    'Fitur Energy': file_name,\n",
    "    'Derajat 0': energy0,\n",
    "    'Derajat 45': energy45,\n",
    "    'Derajat 90': energy90,\n",
    "    'Derajat 135': energy135\n",
    "    }\n",
    ")"
   ]
  },
  {
   "cell_type": "code",
   "execution_count": 21,
   "metadata": {},
   "outputs": [],
   "source": [
    "correlation0 = []\n",
    "correlation45 = []\n",
    "correlation90 = []\n",
    "correlation135 = []\n",
    "for i in range(len(data)):\n",
    "    C0 = correlation(Derajat0[i])\n",
    "    correlation0.append(C0)\n",
    "    C45 = correlation(Derajat45[i])\n",
    "    correlation45.append(C45)\n",
    "    C90 = correlation(Derajat90[i])\n",
    "    correlation90.append(C90)\n",
    "    C135 = correlation(Derajat135[i])\n",
    "    correlation135.append(C135)\n",
    "correlasi = singgih.DataFrame(\n",
    "    {\n",
    "    'Fitur Correlations': file_name,\n",
    "    'Derajat 0': correlation0,\n",
    "    'Derajat 45': correlation45,\n",
    "    'Derajat 90': correlation90,\n",
    "    'Derajat 135': correlation135\n",
    "    }\n",
    ")"
   ]
  },
  {
   "cell_type": "code",
   "execution_count": 22,
   "metadata": {},
   "outputs": [],
   "source": [
    "output = singgih.concat([kontras,dissimilaritas,homogenitas,entropi,asm,energi,correlasi],axis=1)\n",
    "output.to_csv('After.csv',index=False)"
   ]
  }
 ],
 "metadata": {
  "kernelspec": {
   "display_name": "Python 3",
   "language": "python",
   "name": "python3"
  },
  "language_info": {
   "codemirror_mode": {
    "name": "ipython",
    "version": 3
   },
   "file_extension": ".py",
   "mimetype": "text/x-python",
   "name": "python",
   "nbconvert_exporter": "python",
   "pygments_lexer": "ipython3",
   "version": "3.10.10"
  },
  "orig_nbformat": 4
 },
 "nbformat": 4,
 "nbformat_minor": 2
}
