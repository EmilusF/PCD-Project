{
 "cells": [
  {
   "attachments": {},
   "cell_type": "markdown",
   "metadata": {},
   "source": [
    "## Library Python"
   ]
  },
  {
   "cell_type": "code",
   "execution_count": 1,
   "metadata": {},
   "outputs": [],
   "source": [
    "import cv2 as cv\n",
    "import numpy as np\n",
    "import matplotlib.pyplot as plt\n",
    "import pandas as singgih\n",
    "import os\n",
    "import seaborn as sns\n",
    "import math\n",
    "import numpy as np\n",
    "import numpy as np\n",
    "import mahotas.features.texture as texture\n"
   ]
  },
  {
   "attachments": {},
   "cell_type": "markdown",
   "metadata": {},
   "source": [
    "## Import Dataset"
   ]
  },
  {
   "cell_type": "code",
   "execution_count": 2,
   "metadata": {},
   "outputs": [],
   "source": [
    "data = []\n",
    "datareize = []\n",
    "dataredonly = []\n",
    "file_name=[]\n",
    "folders = [\n",
    "    \"Dataset/Cataract\", \n",
    "    \"Dataset/Myopia\", \n",
    "    \"Dataset/Normal\"\n",
    "    ]\n"
   ]
  },
  {
   "attachments": {},
   "cell_type": "markdown",
   "metadata": {},
   "source": [
    "## PreProcessing"
   ]
  },
  {
   "cell_type": "code",
   "execution_count": 3,
   "metadata": {},
   "outputs": [],
   "source": [
    "for folder in folders:\n",
    "    dataset = os.listdir(folder)\n",
    "    for file in dataset:\n",
    "\n",
    "        img_path = os.path.join(folder, file)\n",
    "        name = os.path.splitext(file)[0]\n",
    "\n",
    "        inImage = cv.imread(img_path)\n",
    "\n",
    "        data.append(inImage)\n",
    "        file_name.append(name)"
   ]
  },
  {
   "cell_type": "code",
   "execution_count": 4,
   "metadata": {},
   "outputs": [],
   "source": [
    "datareize = []\n",
    "for i in range(len(data)):\n",
    "    datareize.append(data[i])"
   ]
  },
  {
   "cell_type": "code",
   "execution_count": 5,
   "metadata": {},
   "outputs": [],
   "source": [
    "for i in range(len(datareize)):\n",
    "    image = datareize[i]\n",
    "    min = np.min(image)\n",
    "    max = np.max(image)\n",
    "    \n",
    "    newimage = (image - min) / (max - min)\n",
    "    Intimage = (newimage * 255).astype(np.uint8)\n",
    "\n",
    "    image = cv.resize(Intimage, (256, 256), interpolation=cv.INTER_NEAREST)\n",
    "    datareize[i] = image\n",
    "    saveimagepath = \"Resize/\" + file_name[i] + \".jpg\"\n",
    "    cv.imwrite(saveimagepath, datareize[i])"
   ]
  },
  {
   "cell_type": "code",
   "execution_count": 6,
   "metadata": {},
   "outputs": [],
   "source": [
    "dataredonly = []\n",
    "for i in range(len(datareize)):\n",
    "    dataredonly.append(datareize[i])\n"
   ]
  },
  {
   "cell_type": "code",
   "execution_count": 7,
   "metadata": {},
   "outputs": [],
   "source": [
    "for i in range(len(dataredonly)):\n",
    "    image = dataredonly[i]\n",
    "\n",
    "    for j in range (image.shape[0]):\n",
    "        for k in range (image.shape[1]):\n",
    "            image[j][k][0]=0\n",
    "            image[j][k][1]=0\n",
    "\n",
    "    dataredonly[i] = image\n",
    "    saveimagepath = \"RedOnly/\" + file_name[i] + \".jpg\"\n",
    "    cv.imwrite(saveimagepath, dataredonly[i])"
   ]
  },
  {
   "cell_type": "code",
   "execution_count": 8,
   "metadata": {},
   "outputs": [],
   "source": [
    "datagrayfromred = []\n",
    "for i in range(len(dataredonly)):\n",
    "    datagrayfromred.append(dataredonly[i])"
   ]
  },
  {
   "cell_type": "code",
   "execution_count": 9,
   "metadata": {},
   "outputs": [],
   "source": [
    "for i in range(len(datagrayfromred)):\n",
    "    image = datagrayfromred[i]\n",
    "\n",
    "    gray_img = cv.cvtColor(image, cv.COLOR_BGR2GRAY)\n",
    "\n",
    "    datagrayfromred[i] = gray_img\n",
    "    saveimagepath = \"gray/\" + file_name[i] + \".jpg\"\n",
    "    cv.imwrite(saveimagepath, datagrayfromred[i])"
   ]
  },
  {
   "cell_type": "code",
   "execution_count": 10,
   "metadata": {},
   "outputs": [],
   "source": [
    "def sobel(image):\n",
    "    padmat=np.pad(image,[(1,1),(1,1)])\n",
    "    gx=np.array([[1,0,-1],\n",
    "                [2,0,-2],\n",
    "                [1,0,-1]])\n",
    "    gy=np.array([[1,2,1],\n",
    "                [0,0,0,],\n",
    "                [-1,-2,-1]])\n",
    "    hasil=np.zeros(image.shape)\n",
    "    verti=np.zeros(image.shape)\n",
    "    hori=np.zeros(image.shape)\n",
    "    for i in range (image.shape[0]):\n",
    "        for j in range (image.shape[1]):\n",
    "            for k in range (3):\n",
    "                for l in range (3):\n",
    "                    verti[i,j]+=padmat[i+k][j+l]*gy[k][l]\n",
    "                    hori[i,j]+=padmat[i+k][j+l]*gx[k][l]\n",
    "            gypow=math.pow(verti[i,j],2)\n",
    "            gxpow=math.pow(hori[i,j],2)\n",
    "            hasil[i,j]=round(math.sqrt(gypow+gxpow))\n",
    "    return hasil"
   ]
  },
  {
   "cell_type": "code",
   "execution_count": 11,
   "metadata": {},
   "outputs": [],
   "source": [
    "datatepi = []\n",
    "for i in range(len(datagrayfromred)):\n",
    "    datatepi.append(datagrayfromred[i])"
   ]
  },
  {
   "cell_type": "code",
   "execution_count": 12,
   "metadata": {},
   "outputs": [],
   "source": [
    "for i in range(len(datatepi)):\n",
    "    image = datatepi[i]\n",
    "\n",
    "    datatepi[i] = sobel(image)\n",
    "\n",
    "    saveimagepath = \"tepi/\" + file_name[i] + \".jpg\"\n",
    "    cv.imwrite(saveimagepath, datatepi[i])"
   ]
  },
  {
   "cell_type": "code",
   "execution_count": 13,
   "metadata": {},
   "outputs": [],
   "source": [
    "datatebel = []\n",
    "for i in range(len(datatepi)):\n",
    "    datatebel.append(datatepi[i])"
   ]
  },
  {
   "cell_type": "code",
   "execution_count": 14,
   "metadata": {},
   "outputs": [],
   "source": [
    "for i in range(len(datatebel)):\n",
    "    image = datatebel[i]\n",
    "\n",
    "    for j in range(image.shape[0]):\n",
    "        for k in range(image.shape[1]):\n",
    "            if(image[j,k]<=30):\n",
    "                image[j,k]=0\n",
    "            elif(image[j,k]<=85):\n",
    "                image[j,k]=127\n",
    "            else:\n",
    "                image[j,k]=255\n",
    "\n",
    "\n",
    "    datatebel[i] = image\n",
    "\n",
    "    saveimagepath = \"tebel/\" + file_name[i] + \".jpg\"\n",
    "    cv.imwrite(saveimagepath, datatebel[i])"
   ]
  },
  {
   "cell_type": "code",
   "execution_count": 15,
   "metadata": {},
   "outputs": [],
   "source": [
    "datatebel2 = []\n",
    "for i in range(len(datatebel)):\n",
    "    datatebel2.append(datatebel[i])"
   ]
  },
  {
   "cell_type": "code",
   "execution_count": 16,
   "metadata": {},
   "outputs": [],
   "source": [
    "for i in range(len(datatebel2)):\n",
    "    image = datatebel2[i]\n",
    "\n",
    "    for j in range(image.shape[0]):\n",
    "        for k in range(image.shape[1]):\n",
    "            if(image[j,k]>=30):\n",
    "                image[j,k]=255\n",
    "\n",
    "    datatebel2[i] = image\n",
    "\n",
    "    saveimagepath = \"tebel2/\" + file_name[i] + \".jpg\"\n",
    "    cv.imwrite(saveimagepath, datatebel2[i])"
   ]
  },
  {
   "cell_type": "code",
   "execution_count": 31,
   "metadata": {},
   "outputs": [],
   "source": [
    "lastdata = []\n",
    "file_name2 = []\n",
    "folder = \"duakali\"\n",
    "dataset = os.listdir(folder)\n",
    "for file in dataset:\n",
    "\n",
    "    img_path = os.path.join(folder, file)\n",
    "    name = os.path.splitext(file)[0]\n",
    "\n",
    "    inImage = cv.imread(img_path)\n",
    "\n",
    "    lastdata.append(inImage)\n",
    "    file_name2.append(name)"
   ]
  },
  {
   "cell_type": "code",
   "execution_count": 41,
   "metadata": {},
   "outputs": [],
   "source": [
    "for i in range(len(lastdata)):\n",
    "    image = lastdata[i]\n",
    "    sum = 0\n",
    "    for j in range (image.shape[0]):\n",
    "        for k in range (image.shape[1]):\n",
    "            if(image[j,k]==255).any():\n",
    "                sum+=1\n",
    "    if(sum<=11000):\n",
    "        saveimagepath = \"Hasil/Cataract/\" + file_name[i] + \".jpg\"\n",
    "    elif(sum<=15000):\n",
    "        saveimagepath = \"Hasil/Normal/\" + file_name[i] + \".jpg\"\n",
    "    else:\n",
    "        saveimagepath = \"Hasil/Myiopia/\" + file_name[i] + \".jpg\"\n",
    "    cv.imwrite(saveimagepath, datatebel2[i])"
   ]
  },
  {
   "cell_type": "code",
   "execution_count": 40,
   "metadata": {},
   "outputs": [
    {
     "name": "stdout",
     "output_type": "stream",
     "text": [
      "15435\n"
     ]
    }
   ],
   "source": [
    "\n",
    "image = lastdata[96]\n",
    "sum = 0\n",
    "for j in range (image.shape[0]):\n",
    "    for k in range (image.shape[1]):\n",
    "        if(image[j,k]==255).any():\n",
    "            sum+=1\n",
    "print(sum)"
   ]
  },
  {
   "cell_type": "code",
   "execution_count": 28,
   "metadata": {},
   "outputs": [],
   "source": [
    "data2times = []\n",
    "for i in range(len(datatebel2)):\n",
    "    data2times.append(datatebel2[i])"
   ]
  },
  {
   "cell_type": "code",
   "execution_count": 30,
   "metadata": {},
   "outputs": [],
   "source": [
    "for i in range(len(data2times)):\n",
    "    image = data2times[i]\n",
    "\n",
    "    tinggi,lebar = image.shape\n",
    "\n",
    "    dilatasi=np.zeros((tinggi*3,lebar*3))\n",
    "\n",
    "    for j in range(tinggi*3):\n",
    "        for k in range(lebar*3):\n",
    "            m=math.floor(j/3)\n",
    "            l=math.floor(k/3)\n",
    "            dilatasi[j][k]=image[m][l]\n",
    "    \n",
    "    data2times[i] = dilatasi\n",
    "\n",
    "    saveimagepath = \"duakali/\" + file_name[i] + \".jpg\"\n",
    "    cv.imwrite(saveimagepath, data2times[i])"
   ]
  }
 ],
 "metadata": {
  "kernelspec": {
   "display_name": "Python 3",
   "language": "python",
   "name": "python3"
  },
  "language_info": {
   "codemirror_mode": {
    "name": "ipython",
    "version": 3
   },
   "file_extension": ".py",
   "mimetype": "text/x-python",
   "name": "python",
   "nbconvert_exporter": "python",
   "pygments_lexer": "ipython3",
   "version": "3.10.10"
  },
  "orig_nbformat": 4
 },
 "nbformat": 4,
 "nbformat_minor": 2
}
