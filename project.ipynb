{
 "cells": [
  {
   "attachments": {},
   "cell_type": "markdown",
   "metadata": {},
   "source": [
    "## Library Python"
   ]
  },
  {
   "cell_type": "code",
   "execution_count": null,
   "metadata": {},
   "outputs": [],
   "source": [
    "import cv2 as cv\n",
    "import numpy as np\n",
    "import matplotlib.pyplot as plt\n",
    "import pandas as singgih\n",
    "import os\n",
    "import seaborn as sns\n",
    "import math\n",
    "import numpy as np\n",
    "import numpy as np\n",
    "import mahotas.features.texture as texture"
   ]
  },
  {
   "attachments": {},
   "cell_type": "markdown",
   "metadata": {},
   "source": [
    "Code di atas mengimport beberapa library yang digunakan dalam pengolahan citra dan analisis data. Library yang diimpor antara lain adalah cv2 (OpenCV) untuk operasi dasar pada citra, numpy untuk manipulasi array dan operasi matematika, matplotlib.pyplot untuk visualisasi data, pandas untuk manipulasi dan analisis data tabular, os untuk interaksi dengan sistem operasi, seaborn untuk visualisasi data statistik, dan mahotas.features.texture untuk ekstraksi fitur tekstur pada citra. Dengan mengimpor library ini, kita dapat menggunakan fungsi dan metode yang tersedia dalam setiap library tersebut untuk memproses citra dan melakukan analisis data."
   ]
  },
  {
   "attachments": {},
   "cell_type": "markdown",
   "metadata": {},
   "source": [
    "## Import Dataset"
   ]
  },
  {
   "cell_type": "code",
   "execution_count": null,
   "metadata": {},
   "outputs": [],
   "source": [
    "data = []\n",
    "datareize = []\n",
    "dataredonly = []\n",
    "file_name=[]\n",
    "folders = [\n",
    "    \"Dataset/Cataract\", \n",
    "    \"Dataset/Myopia\", \n",
    "    \"Dataset/Normal\"\n",
    "    ]"
   ]
  },
  {
   "attachments": {},
   "cell_type": "markdown",
   "metadata": {},
   "source": [
    "Code di atas adalah sebuah script Variabel \"data\" digunakan untuk menyimpan data yang akan diolah, \"datareize\" untuk menyimpan data yang telah diubah ukurannya, \"dataredonly\" untuk menyimpan data yang hanya bisa dibaca, dan \"file_name\" untuk menyimpan nama-nama file. Lalu, terdapat sebuah daftar (list) bernama \"folders\" yang berisi tiga path atau jalur folder yaitu \"Dataset/Cataract\", \"Dataset/Myopia\", dan \"Dataset/Normal\". Daftar ini digunakan untuk mengakses data dalam tiga folder tersebut."
   ]
  },
  {
   "attachments": {},
   "cell_type": "markdown",
   "metadata": {},
   "source": [
    "## PreProcessing"
   ]
  },
  {
   "cell_type": "code",
   "execution_count": null,
   "metadata": {},
   "outputs": [],
   "source": [
    "for folder in folders:\n",
    "    dataset = os.listdir(folder)\n",
    "    for file in dataset:\n",
    "\n",
    "        img_path = os.path.join(folder, file)\n",
    "        name = os.path.splitext(file)[0]\n",
    "\n",
    "        inImage = cv.imread(img_path)\n",
    "\n",
    "        data.append(inImage)\n",
    "        file_name.append(name)"
   ]
  },
  {
   "attachments": {},
   "cell_type": "markdown",
   "metadata": {},
   "source": [
    "Code di atas merupakan sebuah iterasi yang digunakan untuk mengakses file-file dalam folder-folder. Pada setiap iterasi, code tersebut mengambil daftar file dalam folder yang sedang diproses dan kemudian mengiterasi setiap file dalam daftar tersebut. Selanjutnya, code tersebut membaca gambar menggunakan OpenCV (cv) dan menyimpannya ke dalam variabel `inImage`. Gambar tersebut kemudian ditambahkan ke dalam list `data`, sementara nama file (tanpa ekstensi) disimpan dalam list `file_name`. Proses ini dilakukan untuk setiap file dalam setiap folder yang telah ditentukan sebelumnya."
   ]
  },
  {
   "cell_type": "code",
   "execution_count": null,
   "metadata": {},
   "outputs": [],
   "source": [
    "datareize = []\n",
    "for i in range(len(data)):\n",
    "    datareize.append(data[i])"
   ]
  },
  {
   "attachments": {},
   "cell_type": "markdown",
   "metadata": {},
   "source": [
    "Code di atas merupakan sebuah iterasi yang mengakses setiap elemen dalam daftar \"data\" dan menambahkannya ke dalam daftar \"datareize\". Proses ini dilakukan dengan menggunakan perulangan for loop dan fungsi len() untuk mendapatkan panjang dari daftar \"data\". Dalam setiap iterasi, elemen dari \"data\" diambil menggunakan indeks i dan ditambahkan ke dalam daftar \"datareize\" menggunakan metode append(). Dengan demikian, pada akhir perulangan, semua elemen dari \"data\" akan disalin ke dalam \"datareize\"."
   ]
  },
  {
   "cell_type": "code",
   "execution_count": null,
   "metadata": {},
   "outputs": [],
   "source": [
    "for i in range(len(datareize)):\n",
    "    image = datareize[i]\n",
    "    min = np.min(image)\n",
    "    max = np.max(image)\n",
    "    \n",
    "    newimage = (image - min) / (max - min)\n",
    "    Intimage = (newimage * 255).astype(np.uint8)\n",
    "\n",
    "    image = cv.resize(Intimage, (256, 256), interpolation=cv.INTER_NEAREST)\n",
    "    datareize[i] = image\n",
    "    saveimagepath = \"Resize/\" + file_name[i] + \".jpg\"\n",
    "    cv.imwrite(saveimagepath, datareize[i])"
   ]
  },
  {
   "attachments": {},
   "cell_type": "markdown",
   "metadata": {},
   "source": [
    "Code di atas berfungsi untuk meresize dan menyimpan gambar dalam format JPG. Pada setiap iterasi loop `for`, gambar diambil dari `datareize` menggunakan indeks `i`. Selanjutnya, nilai minimum dan maksimum dari gambar tersebut dihitung menggunakan fungsi `np.min` dan `np.max`. Setelah itu, gambar di-normalisasi menggunakan formula `(image - min) / (max - min)`, dan kemudian dikonversi menjadi tipe data `uint8` dengan skala 0-255 menggunakan `(newimage * 255).astype(np.uint8)`. Selanjutnya, gambar diresize menjadi ukuran 256x256 piksel menggunakan fungsi `cv.resize` dengan metode interpolasi `cv.INTER_NEAREST`. Hasil resize disimpan kembali ke dalam `datareize`. Path penyimpanan gambar ditentukan dengan format \"Resize/nama_file.jpg\" menggunakan `file_name[i]` dan disimpan menggunakan `cv.imwrite`."
   ]
  },
  {
   "cell_type": "code",
   "execution_count": null,
   "metadata": {},
   "outputs": [],
   "source": [
    "dataredonly = []\n",
    "for i in range(len(datareize)):\n",
    "    dataredonly.append(datareize[i])"
   ]
  },
  {
   "attachments": {},
   "cell_type": "markdown",
   "metadata": {},
   "source": [
    "Code di atas menggunakan variabel `dataredonly` yang diinisialisasi sebagai sebuah list kosong. Kemudian, dengan menggunakan perulangan `for`, code tersebut mengiterasi melalui indeks-indeks dari list `datareize` dan menambahkan elemen-elemen tersebut ke dalam list `dataredonly`. Dengan demikian, code tersebut menghasilkan list baru bernama `dataredonly` yang berisi elemen-elemen yang sama dengan `datareize`."
   ]
  },
  {
   "cell_type": "code",
   "execution_count": null,
   "metadata": {},
   "outputs": [],
   "source": [
    "for i in range(len(dataredonly)):\n",
    "    image = dataredonly[i]\n",
    "\n",
    "    for j in range (image.shape[0]):\n",
    "        for k in range (image.shape[1]):\n",
    "            image[j][k][0]=0\n",
    "            image[j][k][1]=0\n",
    "\n",
    "    dataredonly[i] = image\n",
    "    saveimagepath = \"RedOnly/\" + file_name[i] + \".jpg\"\n",
    "    cv.imwrite(saveimagepath, dataredonly[i])"
   ]
  },
  {
   "attachments": {},
   "cell_type": "markdown",
   "metadata": {},
   "source": [
    "Code di atas adalah sebuah loop yang digunakan untuk memanipulasi data gambar dalam format RGB. Loop pertama digunakan untuk mengiterasi melalui setiap elemen dalam array `dataredonly`. Di dalam loop tersebut, variabel `image` diinisialisasi dengan nilai elemen saat ini. Kemudian, terdapat dua loop berikutnya yang digunakan untuk mengakses setiap piksel dalam gambar tersebut. Pada setiap iterasi, komponen merah dan hijau dari piksel tersebut diubah menjadi nilai nol, sehingga menghasilkan warna biru. Setelah selesai mengubah semua piksel dalam gambar, gambar tersebut disimpan kembali ke dalam array `dataredonly` pada indeks yang sama. Selanjutnya, path penyimpanan gambar ditentukan berdasarkan nama file yang terkait dengan indeks saat ini, dan gambar tersebut disimpan sebagai file JPG menggunakan fungsi `cv.imwrite`."
   ]
  },
  {
   "cell_type": "code",
   "execution_count": null,
   "metadata": {},
   "outputs": [],
   "source": [
    "datagrayfromred = []\n",
    "for i in range(len(dataredonly)):\n",
    "    datagrayfromred.append(dataredonly[i])"
   ]
  },
  {
   "attachments": {},
   "cell_type": "markdown",
   "metadata": {},
   "source": [
    "Code di atas berfungsi untuk membuat daftar baru yang bernama `datagrayfromred`. Pada setiap iterasi loop `for`, nilai dari `dataredonly` ditambahkan ke daftar `datagrayfromred`. Variabel `dataredonly` harus merupakan daftar yang sudah ada sebelumnya, dan `len(dataredonly)` digunakan untuk mendapatkan panjang daftar tersebut. Setelah semua nilai ditambahkan, daftar `datagrayfromred` akan berisi nilai-nilai yang sama dengan `dataredonly`."
   ]
  },
  {
   "cell_type": "code",
   "execution_count": null,
   "metadata": {},
   "outputs": [],
   "source": [
    "for i in range(len(datagrayfromred)):\n",
    "    image = datagrayfromred[i]\n",
    "\n",
    "    gray_img = cv.cvtColor(image, cv.COLOR_BGR2GRAY)\n",
    "\n",
    "    datagrayfromred[i] = gray_img\n",
    "    saveimagepath = \"gray/\" + file_name[i] + \".jpg\"\n",
    "    cv.imwrite(saveimagepath, datagrayfromred[i])"
   ]
  },
  {
   "attachments": {},
   "cell_type": "markdown",
   "metadata": {},
   "source": [
    "Code di atas adalah sebuah loop yang digunakan untuk mengonversi serangkaian gambar dari format BGR menjadi format grayscale. Loop tersebut berjalan sebanyak jumlah elemen dalam variabel \"datagrayfromred\". Pada setiap iterasi, gambar yang sedang diproses diambil dari \"datagrayfromred\" dan diubah menjadi gambar grayscale menggunakan fungsi \"cv.cvtColor\" dari library OpenCV. Hasilnya kemudian disimpan kembali ke dalam variabel \"datagrayfromred\". Selanjutnya, path untuk menyimpan gambar grayscale tersebut ditentukan dengan menggabungkan nama file asli dengan ekstensi \".jpg\", dan gambar tersebut disimpan ke dalam folder \"gray\" menggunakan fungsi \"cv.imwrite\". Proses ini diulang untuk setiap gambar dalam variabel \"datagrayfromred\"."
   ]
  },
  {
   "cell_type": "code",
   "execution_count": null,
   "metadata": {},
   "outputs": [],
   "source": [
    "def sobel(image):\n",
    "    padmat=np.pad(image,[(1,1),(1,1)])\n",
    "    gx=np.array([[1,0,-1],\n",
    "                [2,0,-2],\n",
    "                [1,0,-1]])\n",
    "    gy=np.array([[1,2,1],\n",
    "                [0,0,0,],\n",
    "                [-1,-2,-1]])\n",
    "    hasil=np.zeros(image.shape)\n",
    "    verti=np.zeros(image.shape)\n",
    "    hori=np.zeros(image.shape)\n",
    "    for i in range (image.shape[0]):\n",
    "        for j in range (image.shape[1]):\n",
    "            for k in range (3):\n",
    "                for l in range (3):\n",
    "                    verti[i,j]+=padmat[i+k][j+l]*gy[k][l]\n",
    "                    hori[i,j]+=padmat[i+k][j+l]*gx[k][l]\n",
    "            gypow=math.pow(verti[i,j],2)\n",
    "            gxpow=math.pow(hori[i,j],2)\n",
    "            hasil[i,j]=round(math.sqrt(gypow+gxpow))\n",
    "    return hasil"
   ]
  },
  {
   "attachments": {},
   "cell_type": "markdown",
   "metadata": {},
   "source": [
    "Code di atas adalah Fungsi `sobel`. Pertama, citra di-pad dengan nilai nol pada setiap sisi. Kemudian, dilakukan konvolusi menggunakan matriks filter Sobel vertikal (`gy`) dan horizontal (`gx`). Hasil konvolusi dari kedua matriks tersebut digunakan untuk menghitung gradien tepi pada setiap piksel citra. Gradien vertikal dan horizontal dikalikan dengan matriks filter dan dijumlahkan untuk setiap piksel citra, kemudian dihitung magnitude (akar kuadrat dari kuadrat gradien vertikal dan horizontal) dan hasilnya dibulatkan menjadi nilai integer. Hasil ini adalah citra hasil deteksi tepi menggunakan operator Sobel."
   ]
  },
  {
   "cell_type": "code",
   "execution_count": null,
   "metadata": {},
   "outputs": [],
   "source": [
    "datatepi = []\n",
    "for i in range(len(datagrayfromred)):\n",
    "    datatepi.append(datagrayfromred[i])"
   ]
  },
  {
   "attachments": {},
   "cell_type": "markdown",
   "metadata": {},
   "source": [
    "Code di atas adalah implementasi loop for yang mengiterasi melalui setiap elemen dalam variabel \"datagrayfromred\" dan kemudian menambahkan setiap elemen tersebut ke dalam daftar \"datatepi\". Dalam setiap iterasi, elemen dari \"datagrayfromred\" diambil menggunakan indeks \"i\" dan kemudian ditambahkan ke dalam daftar \"datatepi\" menggunakan metode \"append()\". Hasilnya adalah variabel \"datatepi\" akan berisi semua elemen dari \"datagrayfromred\" setelah proses loop selesai dieksekusi."
   ]
  },
  {
   "cell_type": "code",
   "execution_count": null,
   "metadata": {},
   "outputs": [],
   "source": [
    "for i in range(len(datatepi)):\n",
    "    image = datatepi[i]\n",
    "\n",
    "    datatepi[i] = sobel(image)\n",
    "\n",
    "    saveimagepath = \"tepi/\" + file_name[i] + \".jpg\"\n",
    "    cv.imwrite(saveimagepath, datatepi[i])"
   ]
  },
  {
   "attachments": {},
   "cell_type": "markdown",
   "metadata": {},
   "source": [
    "Code di atas adalah sebuah loop yang iterasi sebanyak panjang dari daftar \"datatepi\". Pada setiap iterasi, gambar di indeks ke-i dari daftar tersebut disimpan dalam variabel \"image\". Kemudian, gambar tersebut diproses menggunakan metode Sobel dengan memanggil fungsi \"sobel(image)\". Hasil dari proses ini kemudian disimpan kembali ke daftar \"datatepi\" pada indeks ke-i. Selanjutnya, path untuk menyimpan gambar hasil dipersiapkan dengan menggabungkan string \"tepi/\" dengan nama file yang ada di indeks ke-i dari daftar \"file_name\", serta menambahkan ekstensi \".jpg\". Terakhir, gambar hasil disimpan menggunakan fungsi \"cv.imwrite()\" dengan path yang telah disiapkan sebelumnya."
   ]
  },
  {
   "cell_type": "code",
   "execution_count": null,
   "metadata": {},
   "outputs": [],
   "source": [
    "datatebel = []\n",
    "for i in range(len(datatepi)):\n",
    "    datatebel.append(datatepi[i])"
   ]
  },
  {
   "attachments": {},
   "cell_type": "markdown",
   "metadata": {},
   "source": [
    "Code di atas adalah sebuah loop yang mengiterasi melalui setiap elemen dalam list \"datatepi\" dan kemudian menambahkan setiap elemen tersebut ke dalam list \"datatebel\". Dalam setiap iterasi, variabel \"i\" digunakan sebagai indeks untuk mengakses elemen-elemen dalam list \"datatepi\". Loop ini akan terus berjalan hingga semua elemen dalam list \"datatepi\" telah ditambahkan ke dalam list \"datatebel\". Hasilnya, list \"datatebel\" akan berisi semua elemen yang sama seperti dalam list \"datatepi\"."
   ]
  },
  {
   "cell_type": "code",
   "execution_count": null,
   "metadata": {},
   "outputs": [],
   "source": [
    "for i in range(len(datatebel)):\n",
    "    image = datatebel[i]\n",
    "\n",
    "    for j in range(image.shape[0]):\n",
    "        for k in range(image.shape[1]):\n",
    "            if(image[j,k]<=30):\n",
    "                image[j,k]=0\n",
    "            elif(image[j,k]<=85):\n",
    "                image[j,k]=127\n",
    "            else:\n",
    "                image[j,k]=255\n",
    "\n",
    "\n",
    "    datatebel[i] = image\n",
    "\n",
    "    saveimagepath = \"tebel/\" + file_name[i] + \".jpg\"\n",
    "    cv.imwrite(saveimagepath, datatebel[i])"
   ]
  },
  {
   "attachments": {},
   "cell_type": "markdown",
   "metadata": {},
   "source": [
    "Code di atas adalah proses pengolahan citra pada setiap gambar dalam suatu dataset. Pertama, dilakukan perulangan untuk setiap indeks i dalam range panjang dataset 'datatebel'. Kemudian, citra pada indeks i disimpan dalam variabel 'image'. Selanjutnya, terdapat perulangan bersarang untuk mengakses setiap piksel dalam citra tersebut. Pada setiap piksel, dilakukan pengecekan nilai intensitasnya. Jika nilai intensitas kurang dari atau sama dengan 30, maka piksel tersebut diberi nilai 0. Jika nilai intensitas berada dalam rentang 30 hingga 85, piksel diberi nilai 127. Jika nilai intensitas lebih besar dari 85, piksel diberi nilai 255. Setelah selesai melakukan pengolahan pada seluruh piksel dalam citra, citra tersebut disimpan kembali dalam dataset 'datatebel' pada indeks yang sama. Terakhir, path penyimpanan gambar yang telah diolah ditentukan berdasarkan nama file pada indeks i dalam list 'file_name', kemudian gambar tersebut disimpan dalam format JPG menggunakan library cv."
   ]
  },
  {
   "cell_type": "code",
   "execution_count": null,
   "metadata": {},
   "outputs": [],
   "source": [
    "datatebel2 = []\n",
    "for i in range(len(datatebel)):\n",
    "    datatebel2.append(datatebel[i])"
   ]
  },
  {
   "attachments": {},
   "cell_type": "markdown",
   "metadata": {},
   "source": [
    "Code di atas adalah sebuah loop for yang digunakan untuk mengisi elemen-elemen dari `datatebel` ke dalam list kosong `datatebel2`. Pada setiap iterasi loop, nilai dari `i` akan berubah mulai dari 0 hingga panjang `datatebel` dikurangi 1. Kemudian, nilai `datatebel[i]` akan ditambahkan ke dalam `datatebel2` menggunakan metode `.append()`. Dengan demikian, setelah loop selesai dieksekusi, `datatebel2` akan berisi elemen-elemen yang sama dengan `datatebel`."
   ]
  },
  {
   "cell_type": "code",
   "execution_count": null,
   "metadata": {},
   "outputs": [],
   "source": [
    "for i in range(len(datatebel2)):\n",
    "    image = datatebel2[i]\n",
    "\n",
    "    for j in range(image.shape[0]):\n",
    "        for k in range(image.shape[1]):\n",
    "            if(image[j,k]>=30):\n",
    "                image[j,k]=255\n",
    "\n",
    "    datatebel2[i] = image\n",
    "\n",
    "    saveimagepath = \"tebel2/\" + file_name[i] + \".jpg\"\n",
    "    cv.imwrite(saveimagepath, datatebel2[i])"
   ]
  },
  {
   "attachments": {},
   "cell_type": "markdown",
   "metadata": {},
   "source": [
    "Code di atas adalah sebuah iterasi yang digunakan untuk memproses gambar-gambar dalam sebuah daftar `datatebel2`. Di dalam loop pertama, setiap gambar dalam `datatebel2` diambil dan disimpan dalam variabel `image`. Kemudian, terdapat dua loop bersarang untuk mengakses setiap elemen piksel dalam gambar tersebut. Jika nilai piksel melebihi atau sama dengan 30, maka nilai piksel tersebut diubah menjadi 255 (putih). Setelah selesai memproses gambar, gambar yang telah dimodifikasi disimpan kembali ke posisi awalnya dalam daftar `datatebel2`. Selanjutnya, alamat penyimpanan gambar yang telah dimodifikasi ditentukan berdasarkan nama file dalam daftar `file_name`, dan gambar tersebut disimpan menggunakan fungsi `cv.imwrite()` dari library OpenCV."
   ]
  },
  {
   "cell_type": "code",
   "execution_count": null,
   "metadata": {},
   "outputs": [],
   "source": [
    "lastdata = []\n",
    "file_name2 = []\n",
    "folder = \"duakali\"\n",
    "dataset = os.listdir(folder)\n",
    "for file in dataset:\n",
    "\n",
    "    img_path = os.path.join(folder, file)\n",
    "    name = os.path.splitext(file)[0]\n",
    "\n",
    "    inImage = cv.imread(img_path)\n",
    "\n",
    "    lastdata.append(inImage)\n",
    "    file_name2.append(name)"
   ]
  },
  {
   "attachments": {},
   "cell_type": "markdown",
   "metadata": {},
   "source": [
    "Code di atas berfungsi untuk membaca file gambar dari folder \"duakali\" dan menyimpannya dalam sebuah list yang disebut \"lastdata\". Selain itu, kode tersebut juga akan menyimpan nama file (tanpa ekstensi) ke dalam list \"file_name2\". Pada setiap iterasi, program akan membaca nama file gambar dari daftar file dalam folder, menggabungkannya dengan jalur folder menggunakan fungsi os.path.join(), dan membaca gambar tersebut menggunakan fungsi cv.imread(). Gambar yang telah dibaca akan ditambahkan ke dalam list \"lastdata\", sedangkan nama file akan ditambahkan ke dalam list \"file_name2\"."
   ]
  },
  {
   "cell_type": "code",
   "execution_count": null,
   "metadata": {},
   "outputs": [],
   "source": [
    "for i in range(len(lastdata)):\n",
    "    image = lastdata[i]\n",
    "    sum = 0\n",
    "    for j in range (image.shape[0]):\n",
    "        for k in range (image.shape[1]):\n",
    "            if(image[j,k]==255).any():\n",
    "                sum+=1\n",
    "    if(sum<=11000):\n",
    "        saveimagepath = \"Hasil/Cataract/\" + file_name[i] + \".jpg\"\n",
    "    elif(sum<=15000):\n",
    "        saveimagepath = \"Hasil/Normal/\" + file_name[i] + \".jpg\"\n",
    "    else:\n",
    "        saveimagepath = \"Hasil/Myiopia/\" + file_name[i] + \".jpg\"\n",
    "    cv.imwrite(saveimagepath, datatebel2[i])"
   ]
  },
  {
   "attachments": {},
   "cell_type": "markdown",
   "metadata": {},
   "source": [
    "Code di atas adalah sebuah perulangan yang digunakan untuk mengolah sebuah array bernama `lastdata`. Di dalam perulangan tersebut, setiap elemen array `lastdata` diakses dan disimpan dalam variabel `image`. Kemudian, variabel `sum` diatur menjadi 0. Selanjutnya, terdapat perulangan bersarang yang digunakan untuk mengakses setiap elemen dalam `image` menggunakan indeks `j` dan `k`. Jika nilai elemen tersebut sama dengan 255, maka variabel `sum` akan ditambahkan dengan 1. Setelah perulangan tersebut selesai, dilakukan beberapa kondisi `if` untuk membandingkan nilai `sum` dengan batas tertentu. Jika `sum` kurang dari atau sama dengan 11000, `saveimagepath` akan diatur sebagai \"Hasil/Cataract/\" ditambah dengan `file_name[i]` ditambah dengan \".jpg\". Jika `sum` kurang dari atau sama dengan 15000, `saveimagepath` akan diatur sebagai \"Hasil/Normal/\" ditambah dengan `file_name[i]` ditambah dengan \".jpg\". Jika kedua kondisi tersebut tidak terpenuhi, maka `saveimagepath` akan diatur sebagai \"Hasil/Myiopia/\" ditambah dengan `file_name[i]` ditambah dengan \".jpg\". Terakhir, menggunakan fungsi `cv.imwrite`, gambar yang sesuai dengan `saveimagepath` akan disimpan ke dalam file dengan format JPG."
   ]
  },
  {
   "cell_type": "code",
   "execution_count": null,
   "metadata": {},
   "outputs": [],
   "source": [
    "image = lastdata[96]\n",
    "sum = 0\n",
    "for j in range (image.shape[0]):\n",
    "    for k in range (image.shape[1]):\n",
    "        if(image[j,k]==255).any():\n",
    "            sum+=1\n",
    "print(sum)"
   ]
  },
  {
   "attachments": {},
   "cell_type": "markdown",
   "metadata": {},
   "source": [
    "Code di atas adalah penghitungan jumlah piksel putih dalam sebuah gambar. Pada baris pertama, variabel \"image\" diinisialisasi dengan mengambil data dari indeks ke-96 dari objek \"lastdata\". Selanjutnya, variabel \"sum\" diinisialisasi dengan nilai 0. Kode kemudian menggunakan loop for untuk mengiterasi melalui setiap piksel dalam gambar. Loop pertama (j) digunakan untuk mengakses setiap baris gambar, sedangkan loop kedua (k) digunakan untuk mengakses setiap kolom gambar. Pada setiap iterasi, kode memeriksa apakah piksel tersebut memiliki nilai 255 (putih). Jika ya, maka variabel \"sum\" akan ditambah 1. Setelah selesai iterasi, kode akan mencetak nilai \"sum\" yang merupakan jumlah piksel putih dalam gambar."
   ]
  },
  {
   "cell_type": "code",
   "execution_count": null,
   "metadata": {},
   "outputs": [],
   "source": [
    "data2times = []\n",
    "for i in range(len(datatebel2)):\n",
    "    data2times.append(datatebel2[i])"
   ]
  },
  {
   "attachments": {},
   "cell_type": "markdown",
   "metadata": {},
   "source": [
    "Code di atas merupakan sebuah loop for yang berfungsi untuk mengambil setiap elemen dari list `datatebel2` dan menambahkannya ke dalam list `data2times`. Proses ini dilakukan dengan menggunakan variabel `i` sebagai indeks untuk mengakses setiap elemen dari `datatebel2`. Selama iterasi, elemen-elemen tersebut disalin dan ditambahkan ke list `data2times` menggunakan metode `.append()`. Dengan demikian, code ini menghasilkan list baru yang berisi elemen-elemen yang sama dengan `datatebel2`, namun ditambahkan dua kali."
   ]
  },
  {
   "cell_type": "code",
   "execution_count": null,
   "metadata": {},
   "outputs": [],
   "source": [
    "for i in range(len(data2times)):\n",
    "    image = data2times[i]\n",
    "\n",
    "    tinggi,lebar = image.shape\n",
    "\n",
    "    dilatasi=np.zeros((tinggi*3,lebar*3))\n",
    "\n",
    "    for j in range(tinggi*3):\n",
    "        for k in range(lebar*3):\n",
    "            m=math.floor(j/3)\n",
    "            l=math.floor(k/3)\n",
    "            dilatasi[j][k]=image[m][l]\n",
    "    \n",
    "    data2times[i] = dilatasi\n",
    "\n",
    "    saveimagepath = \"duakali/\" + file_name[i] + \".jpg\"\n",
    "    cv.imwrite(saveimagepath, data2times[i])"
   ]
  },
  {
   "attachments": {},
   "cell_type": "markdown",
   "metadata": {},
   "source": [
    "Code di atas adalah sebuah perulangan yang digunakan untuk memproses dan mengubah ukuran gambar dalam variabel `data2times`. Setiap elemen dalam `data2times` diambil sebagai gambar dan dihitung tinggi dan lebarnya. Kemudian, sebuah matriks kosong `dilatasi` dibuat dengan ukuran tiga kali lipat dari tinggi dan lebar gambar asli. Perulangan berikutnya digunakan untuk mengisi matriks `dilatasi` dengan memperbesar gambar asli. Setelah itu, gambar yang sudah diubah ukurannya disimpan ke dalam variabel `data2times[i]`. Terakhir, gambar tersebut juga disimpan sebagai file dengan format .jpg dalam direktori \"duakali/\" dengan nama file yang diambil dari `file_name[i]`."
   ]
  }
 ],
 "metadata": {
  "language_info": {
   "name": "python"
  },
  "orig_nbformat": 4
 },
 "nbformat": 4,
 "nbformat_minor": 2
}
